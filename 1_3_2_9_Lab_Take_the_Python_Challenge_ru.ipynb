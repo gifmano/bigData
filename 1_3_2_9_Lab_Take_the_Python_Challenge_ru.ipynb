{
  "cells": [
    {
      "cell_type": "markdown",
      "metadata": {
        "id": "view-in-github",
        "colab_type": "text"
      },
      "source": [
        "<a href=\"https://colab.research.google.com/github/gifmano/bigData/blob/main/1_3_2_9_Lab_Take_the_Python_Challenge_ru.ipynb\" target=\"_parent\"><img src=\"https://colab.research.google.com/assets/colab-badge.svg\" alt=\"Open In Colab\"/></a>"
      ]
    },
    {
      "cell_type": "markdown",
      "metadata": {
        "id": "VYjKIAXQPHsb"
      },
      "source": [
        "МАНО ГИФТ (ЭН-300005)"
      ]
    },
    {
      "cell_type": "markdown",
      "metadata": {
        "id": "msJelgNUPHsh"
      },
      "source": [
        "# Lab - Примите вызов Python \n",
        "\n",
        "\n",
        "Это необязательное упражнение, чтобы проверить Ваше понимание основ Python. Однако мы настоятельно рекомендуем ученику выполнить эти упражнения, чтобы подготовиться к остальной части этого курса. Если Вы не знаете, как их решить, изучите лекции Python, доступные в папке Course Materials / Tutorials and Demos."
      ]
    },
    {
      "cell_type": "markdown",
      "metadata": {
        "id": "ouQoLwDrPHsj"
      },
      "source": [
        "#### Ответьте на вопросы или выполните перечисленные ниже задачи, используйте описанный метод, если это применимо."
      ]
    },
    {
      "cell_type": "markdown",
      "metadata": {
        "id": "g_MmGzjKPHsj"
      },
      "source": [
        "#### 1) Сколько будет если 3 возвести в 5 степень?"
      ]
    },
    {
      "cell_type": "code",
      "execution_count": null,
      "metadata": {
        "colab": {
          "base_uri": "https://localhost:8080/"
        },
        "id": "P8Gw3adiPHsk",
        "outputId": "b3541ee9-d2c4-4ab3-9651-5a1ea773af44"
      },
      "outputs": [
        {
          "output_type": "execute_result",
          "data": {
            "text/plain": [
              "32"
            ]
          },
          "metadata": {},
          "execution_count": 1
        }
      ],
      "source": [
        "# Ячейка для кода №1\n",
        "\n",
        "pow(2,5)"
      ]
    },
    {
      "cell_type": "markdown",
      "metadata": {
        "id": "gIDhuuMJPHsn"
      },
      "source": [
        "#### 2) Создайте переменную *`s`*, содержащую строку \"This course is amazing!\". Используя переменную, преобразуйте строку в список."
      ]
    },
    {
      "cell_type": "code",
      "execution_count": null,
      "metadata": {
        "colab": {
          "base_uri": "https://localhost:8080/"
        },
        "id": "AvL9sxINPHso",
        "outputId": "df8c5f2f-7e0f-419c-f1d4-994609ca2301"
      },
      "outputs": [
        {
          "output_type": "execute_result",
          "data": {
            "text/plain": [
              "['This', 'course', 'is', 'amazing!']"
            ]
          },
          "metadata": {},
          "execution_count": 2
        }
      ],
      "source": [
        "# Ячейка для кода №2\n",
        "s = \"This course is amazing!\"\n",
        "s.split()"
      ]
    },
    {
      "cell_type": "markdown",
      "metadata": {
        "id": "d-yuNfMOPHso"
      },
      "source": [
        "#### 3) Учитывая переменные height и mountain, используйте .format(), чтобы напечатать следующую строку:\n",
        "<center>`The height of Mt. Everest is 8848 meters.`</center>"
      ]
    },
    {
      "cell_type": "code",
      "execution_count": 42,
      "metadata": {
        "colab": {
          "base_uri": "https://localhost:8080/"
        },
        "id": "s4XSLrAbPHsp",
        "outputId": "6fb01314-6b25-420e-b527-c9d24afeb4ef"
      },
      "outputs": [
        {
          "output_type": "stream",
          "name": "stdout",
          "text": [
            "The height of Mt. Everest is 8848\n"
          ]
        }
      ],
      "source": [
        "# Ячейка для кода №3\n",
        "mountain = \"Mt. Everest\"\n",
        "height = 8848\n",
        "print('The height of {} is {}'.format(mountain, 8848 ))"
      ]
    },
    {
      "cell_type": "markdown",
      "metadata": {
        "id": "sfGtGtxBPHsq"
      },
      "source": [
        "#### 4) Учитывая следующий вложенный список, используйте индексирование, чтобы захватить слово `\"this\"`."
      ]
    },
    {
      "cell_type": "code",
      "execution_count": null,
      "metadata": {
        "colab": {
          "base_uri": "https://localhost:8080/",
          "height": 35
        },
        "id": "PbiBzYn4PHsr",
        "outputId": "1883bc5d-37c4-4bfd-e60d-78d8c8802846"
      },
      "outputs": [
        {
          "output_type": "execute_result",
          "data": {
            "text/plain": [
              "'this'"
            ],
            "application/vnd.google.colaboratory.intrinsic+json": {
              "type": "string"
            }
          },
          "metadata": {},
          "execution_count": 5
        }
      ],
      "source": [
        "# Ячейка для кода №4\n",
        "lst = ['a','b',[4,10,11],['c',[1,66,['this']],2,111],'e',7]\n",
        "lst[3][1][2][0]"
      ]
    },
    {
      "cell_type": "markdown",
      "metadata": {
        "id": "PRsll2G2PHss"
      },
      "source": [
        "#### 5) Учитывая следующий вложенный словарь, захватите слово \"that\". Это упражнение немного сложнее."
      ]
    },
    {
      "cell_type": "code",
      "execution_count": null,
      "metadata": {
        "colab": {
          "base_uri": "https://localhost:8080/",
          "height": 35
        },
        "id": "jrQHmS2UPHss",
        "outputId": "ba65a2c2-4e6b-49e2-dc4a-b39adec74e19"
      },
      "outputs": [
        {
          "output_type": "execute_result",
          "data": {
            "text/plain": [
              "'that'"
            ],
            "application/vnd.google.colaboratory.intrinsic+json": {
              "type": "string"
            }
          },
          "metadata": {},
          "execution_count": 6
        }
      ],
      "source": [
        "# Ячейка для кода №5\n",
        "d = {'k1':['val1','val2','val3',{'we':['need','to','go',{'deeper':[1,2,3,'that']}]}]}\n",
        "d[\"k1\"][3]['we'][3]['deeper'][3]"
      ]
    },
    {
      "cell_type": "markdown",
      "metadata": {
        "id": "VrBBaJhZPHst"
      },
      "source": [
        "#### 6) В чем основное отличие между кортежем и списком? "
      ]
    },
    {
      "cell_type": "markdown",
      "metadata": {
        "collapsed": true,
        "id": "QU0pLLrSPHsu"
      },
      "source": [
        "*Введите свой ответ здесь*"
      ]
    },
    {
      "cell_type": "markdown",
      "metadata": {
        "id": "StbNCsVbPHsu"
      },
      "source": [
        "#### 7) Создайте функцию GetDomain(), которая берёт имя домена в адресе электронной почты из строки в формате: `user@domain.com`.\n",
        "Так, например, передав ей \"user@domain.com\" она вернет: domain.com"
      ]
    },
    {
      "cell_type": "code",
      "execution_count": null,
      "metadata": {
        "colab": {
          "base_uri": "https://localhost:8080/",
          "height": 35
        },
        "id": "vMYw7rH1PHsv",
        "outputId": "9fd633d9-efb4-43dc-f402-2567b09482dc"
      },
      "outputs": [
        {
          "output_type": "execute_result",
          "data": {
            "text/plain": [
              "'com'"
            ],
            "application/vnd.google.colaboratory.intrinsic+json": {
              "type": "string"
            }
          },
          "metadata": {},
          "execution_count": 7
        }
      ],
      "source": [
        "# Ячейка для кода №6\n",
        "def GetDomain(d):\n",
        "   return d.split('.')[-1]\n",
        "GetDomain('user@domain.com')"
      ]
    },
    {
      "cell_type": "markdown",
      "metadata": {
        "id": "VOe5u5I3PHsw"
      },
      "source": [
        "#### 8) Создайте основную функцию findInternet(), которая вернет True, если слово 'Internet' содержится во входной строке. Не беспокойтесь о пограничных случаях как наличие символов пунктуации рядом со словом, но учитывайте регистр."
      ]
    },
    {
      "cell_type": "code",
      "execution_count": null,
      "metadata": {
        "colab": {
          "base_uri": "https://localhost:8080/"
        },
        "id": "rR87CKpbPHsx",
        "outputId": "fd9ff0ba-a3a5-48f0-e29b-1c8aa3aa46fd"
      },
      "outputs": [
        {
          "output_type": "execute_result",
          "data": {
            "text/plain": [
              "True"
            ]
          },
          "metadata": {},
          "execution_count": 8
        }
      ],
      "source": [
        "# Ячейка для кода №7\n",
        "def findInternet(str):\n",
        "    return 'internet' in str.lower().split()\n",
        "findInternet('The Internet Engineering Task Force was created in 1986')"
      ]
    },
    {
      "cell_type": "markdown",
      "metadata": {
        "id": "6qL5vbxqPHsx"
      },
      "source": [
        "#### 9) Создайте функцию countIoT(),  которая подсчитывает сколько раз слово \"IoT\" встречается в строке.  Игнорируйте пограничные случаи, но учитывайте регистр."
      ]
    },
    {
      "cell_type": "code",
      "execution_count": null,
      "metadata": {
        "colab": {
          "base_uri": "https://localhost:8080/"
        },
        "id": "3fnZ2cpOPHsy",
        "outputId": "de0e3d79-5a62-442f-a284-63fb619e469d"
      },
      "outputs": [
        {
          "output_type": "execute_result",
          "data": {
            "text/plain": [
              "2"
            ]
          },
          "metadata": {},
          "execution_count": 9
        }
      ],
      "source": [
        "# Ячейка для кода №№8\n",
        "def countIoT(st):\n",
        "   \n",
        "   return st.split().count(\"IoT\")\n",
        "countIoT('I don\\'t know how to spell IoT ! Is it IoT or iot ? What does iot mean anyway?')"
      ]
    },
    {
      "cell_type": "markdown",
      "metadata": {
        "id": "-KL_V3CZPHsz"
      },
      "source": [
        "#### 10) Используйте лямбда-выражение и функцию filter() для фильтрации слов из списка, которые не начинаются с буквы 'd'. Например:\n",
        "\n",
        "    seq = ['data','salt' ,'dairy','cat', 'dog']\n",
        "\n",
        "должно быть отфильтровано в:\n",
        "\n",
        "    ['data', 'dairy', 'dog']"
      ]
    },
    {
      "cell_type": "code",
      "execution_count": null,
      "metadata": {
        "colab": {
          "base_uri": "https://localhost:8080/"
        },
        "id": "n6ZAkenbPHsz",
        "outputId": "dc5b8a75-d2c4-4572-ab23-86d63dad43fd"
      },
      "outputs": [
        {
          "output_type": "execute_result",
          "data": {
            "text/plain": [
              "['salt', 'cat']"
            ]
          },
          "metadata": {},
          "execution_count": 15
        }
      ],
      "source": [
        "# Ячейка для кода №9\n",
        "seq = ['data','salt' ,'dairy','cat', 'dog']\n",
        "list(filter(lambda s: not s.startswith(\"d\"),seq))\n"
      ]
    },
    {
      "cell_type": "markdown",
      "metadata": {
        "id": "RIhBZ3syPHs0"
      },
      "source": [
        "#### 11) Используйте лямбда-выражение и функцию map() для преобразования списка слов в верхний регистр. Например:"
      ]
    },
    {
      "cell_type": "markdown",
      "metadata": {
        "id": "dFX_AXECPHs0"
      },
      "source": [
        "seq = ['data','salt' ,'dairy','cat', 'dog']\n",
        "\n",
        "должно стать:\n",
        "\n",
        "   ['DATA', 'SALT', 'DAIRY', 'CAT', 'DOG']"
      ]
    },
    {
      "cell_type": "code",
      "execution_count": null,
      "metadata": {
        "colab": {
          "base_uri": "https://localhost:8080/"
        },
        "id": "pYiDz8KEPHs1",
        "outputId": "bdd15c45-940a-4dc8-fc6c-3f11c42e1621"
      },
      "outputs": [
        {
          "output_type": "execute_result",
          "data": {
            "text/plain": [
              "['DATA', 'SALT', 'DAIRY', 'CAT', 'DOG']"
            ]
          },
          "metadata": {},
          "execution_count": 19
        }
      ],
      "source": [
        "# Ячейка для кода №10\n",
        "list(map(lambda s: s.upper(),seq))"
      ]
    },
    {
      "cell_type": "markdown",
      "metadata": {
        "id": "oGK858-BPHs2"
      },
      "source": [
        "#### 12) Представьте себе интеллектуальный термостат, который соединен с дверью для того, чтобы он мог определять, помимо температуры, когда люди входят или выходят из дома.\n",
        "Напишите функцию, которая, при температуре ниже 20 градусов Цельсия, и наличии в доме людей (используйте переменную типа boolean, которая будет передана как параметр функции), включает нагрев, возвращая строку \"Heating on\". Когда температура достигает 23 градусов или если в доме нет людей, то она возвращает строку \"Heating off\". Когда ни одно из этих условий не выполняется, функция возвращает \"Do nothing\"."
      ]
    },
    {
      "cell_type": "code",
      "execution_count": null,
      "metadata": {
        "collapsed": true,
        "id": "oLbSXS7FPHs2"
      },
      "outputs": [],
      "source": [
        "# Ячейка для кода №11\n",
        "def smart_thermostat(temp, people_in):\n",
        "   return \"Heating on\" if temp<20 and people_in else \"Heating off\" if temp==23 and not people_in else \"Do nothing\""
      ]
    },
    {
      "cell_type": "code",
      "source": [],
      "metadata": {
        "id": "M5f6D2xLU7G3"
      },
      "execution_count": null,
      "outputs": []
    },
    {
      "cell_type": "code",
      "execution_count": null,
      "metadata": {
        "colab": {
          "base_uri": "https://localhost:8080/",
          "height": 35
        },
        "id": "X8wR99IcPHs3",
        "outputId": "94f50493-824b-436c-ead1-ab9348049c4e"
      },
      "outputs": [
        {
          "output_type": "execute_result",
          "data": {
            "text/plain": [
              "'Heating off'"
            ],
            "application/vnd.google.colaboratory.intrinsic+json": {
              "type": "string"
            }
          },
          "metadata": {},
          "execution_count": 24
        }
      ],
      "source": [
        "# Ячейка для кода №12\n",
        "# Проверьте smart_thermostat()\n",
        "smart_thermostat(23,False)"
      ]
    },
    {
      "cell_type": "code",
      "execution_count": null,
      "metadata": {
        "colab": {
          "base_uri": "https://localhost:8080/",
          "height": 35
        },
        "id": "pyjEls1uPHs4",
        "outputId": "c9b6c322-1a49-4409-c950-890cb04898f6"
      },
      "outputs": [
        {
          "output_type": "execute_result",
          "data": {
            "text/plain": [
              "'Do nothing'"
            ],
            "application/vnd.google.colaboratory.intrinsic+json": {
              "type": "string"
            }
          },
          "metadata": {},
          "execution_count": 25
        }
      ],
      "source": [
        "# Ячейка для кода №13\n",
        "# Проверьте smart_thermostat()\n",
        "smart_thermostat(21,False)"
      ]
    },
    {
      "cell_type": "markdown",
      "metadata": {
        "id": "J7vgufF2PHs4"
      },
      "source": [
        "#### 13) Функция zip(list1, list2) возвращает список кортежей, где i-й кортеж содержит i-й элемент из каждого списка аргументов. Используйте функцию zip для создания следующего списка кортежей:"
      ]
    },
    {
      "cell_type": "markdown",
      "metadata": {
        "id": "22AMCeEfPHs5"
      },
      "source": [
        "`zipped = [('Parking', -1), ('Shops',0), ('Food Court',1), ('Offices',2)]`"
      ]
    },
    {
      "cell_type": "code",
      "execution_count": null,
      "metadata": {
        "colab": {
          "base_uri": "https://localhost:8080/"
        },
        "id": "16du46IPPHs6",
        "outputId": "a26cd54c-9925-441f-ce25-ce87f4111e37"
      },
      "outputs": [
        {
          "output_type": "stream",
          "name": "stdout",
          "text": [
            "[('Parking', -1), ('Shops', 0), ('Food Court', 1), ('Offices', 2)]\n"
          ]
        }
      ],
      "source": [
        "# Ячейка для кода №14\n",
        "floor_types = ['Parking', 'Shops', 'Food Court', 'Offices']\n",
        "floor_numbers = range(-1,3)\n",
        "zipped = list(map(lambda e: (e,floor_numbers[floor_types.index(e)]),floor_types)) \n",
        "print(zipped)"
      ]
    },
    {
      "cell_type": "markdown",
      "metadata": {
        "id": "nTIhZXmiPHs7"
      },
      "source": [
        "#### 14) Используйте функцию zip и dict() для создания словаря elevator_dict, где в качестве ключей выступают типы этажей, а значениями являются соответствующие им номера этажей, чтобы:\n",
        "elevator_dict[-1] = 'Parking'"
      ]
    },
    {
      "cell_type": "code",
      "execution_count": 40,
      "metadata": {
        "colab": {
          "base_uri": "https://localhost:8080/"
        },
        "id": "h_i-1v-cPHs9",
        "outputId": "6d614ca6-18a2-4131-a4de-2bcff27ea87d"
      },
      "outputs": [
        {
          "output_type": "stream",
          "name": "stdout",
          "text": [
            "{-1: 'Parking', 0: 'Shops', 1: 'Food Court', 2: 'Offices'}\n"
          ]
        }
      ],
      "source": [
        "# Ячейка для кода №15\n",
        "floor_types = ['Parking', 'Shops', 'Food Court', 'Offices']\n",
        "floors_numbers = range(-1,3)\n",
        "elevator_dict = dict(zip(floor_numbers,floor_types))\n",
        "print(elevator_dict)"
      ]
    },
    {
      "cell_type": "code",
      "execution_count": 41,
      "metadata": {
        "id": "oiq1xcubPHs-",
        "colab": {
          "base_uri": "https://localhost:8080/",
          "height": 35
        },
        "outputId": "5c40a4c7-768c-42a4-c523-f96f4832400a"
      },
      "outputs": [
        {
          "output_type": "execute_result",
          "data": {
            "text/plain": [
              "'Parking'"
            ],
            "application/vnd.google.colaboratory.intrinsic+json": {
              "type": "string"
            }
          },
          "metadata": {},
          "execution_count": 41
        }
      ],
      "source": [
        "# Ячейка для кода №16\n",
        "# Проверьте elevator_dict[-1]\n",
        "elevator_dict[-1]"
      ]
    },
    {
      "cell_type": "markdown",
      "metadata": {
        "id": "2D70IOVEPHs_"
      },
      "source": [
        "#### 15) Создайте класс `Elevator`. Конструктор принимает список строк `floor_types` и список целых чисел `floor_numbers`. Класс реализует методы 'ask_which_floor' и 'go_to_floor'. Результат этих методов должен выглядеть следующим образом:\n",
        "`floor_types = ['Parking', 'Shops', 'Food Court', 'Offices']\n",
        "floors_numbers = range(-1,4)\n",
        "\n",
        "el = Elevator(floor_numbers, floor_types)\n",
        "\n",
        "el.go_to_floor(1)`\n",
        "\n",
        "`Going to Food Court floor!`\n",
        "\n",
        "`el.go_to_floor(-2)`\n",
        "\n",
        "`There is floor number -2 in this building.`\n",
        "\n",
        "`el.ask_which_floor('Offices')`\n",
        "\n",
        "`The floor Offices is the number: 2`\n",
        "\n",
        "`el.ask_which_floor('Swimming Pool')`\n",
        "\n",
        "`There is no Swimming Pool floor in this building.`"
      ]
    },
    {
      "cell_type": "code",
      "execution_count": null,
      "metadata": {
        "collapsed": true,
        "id": "Mm7x0dNkPHtA"
      },
      "outputs": [],
      "source": [
        "# Ячейка для кода №17\n",
        "class Elevator:\n",
        "    \n",
        "    def __init__(self, floor_numbers, floor_types):\n",
        "        self._floor_numbers = floor_numbers\n",
        "        self._floor_types = floor_types\n",
        "        self._number_to_type_dict = dict(zip(floor_numbers, floor_types)) \n",
        "        self._type_to_number_dict = dict(zip(floor_types, floor_numbers)) \n",
        "        \n",
        "    def ask_which_floor(self, floor_type):    \n",
        "        if floor_type in self._floor_types:\n",
        "            print('The {} floor is the number: {}.'.format(floor_type, self._type_to_number_dict[floor_type]))\n",
        "        else:\n",
        "            print('There is no {} floor in this building.'.format(floor_type))\n",
        "    \n",
        "    def go_to_floor(self, floor_number):\n",
        "        if floor_number in self._floor_numbers:\n",
        "          print('Going to {} floor!'.format(self._number_to_type_dict[floor_number]))\n",
        "        else:\n",
        "          print('There is no {} floor in this building.'.format(floor_number))"
      ]
    },
    {
      "cell_type": "code",
      "execution_count": null,
      "metadata": {
        "colab": {
          "base_uri": "https://localhost:8080/"
        },
        "id": "AVI3YhQYPHtB",
        "outputId": "eb54f6e7-75f9-4b74-fa33-ae0c4ad253d0"
      },
      "outputs": [
        {
          "output_type": "stream",
          "name": "stdout",
          "text": [
            "Going to Food Court floor!\n"
          ]
        }
      ],
      "source": [
        "# Проверьте ячейку для кода 18\n",
        "el = Elevator(floor_numbers, floor_types)\n",
        "el.go_to_floor(1)"
      ]
    },
    {
      "cell_type": "code",
      "execution_count": null,
      "metadata": {
        "colab": {
          "base_uri": "https://localhost:8080/"
        },
        "id": "RNom9AigPHtC",
        "outputId": "0b1e3d36-fa48-4e01-8fba-2ad720e1bdb9"
      },
      "outputs": [
        {
          "output_type": "stream",
          "name": "stdout",
          "text": [
            "There is no -2 floor in this building.\n"
          ]
        }
      ],
      "source": [
        "# Проверьте ячейку для кода 19\n",
        "el.go_to_floor(-2)"
      ]
    },
    {
      "cell_type": "code",
      "execution_count": null,
      "metadata": {
        "scrolled": true,
        "colab": {
          "base_uri": "https://localhost:8080/"
        },
        "id": "dsBnrCKMPHtD",
        "outputId": "8bc61e91-3d76-4eba-9677-92372aa3a977"
      },
      "outputs": [
        {
          "output_type": "stream",
          "name": "stdout",
          "text": [
            "The Offices floor is the number: 2.\n"
          ]
        }
      ],
      "source": [
        "# Проверьте ячейку для кода 20\n",
        "el.ask_which_floor('Offices')"
      ]
    },
    {
      "cell_type": "code",
      "execution_count": null,
      "metadata": {
        "colab": {
          "base_uri": "https://localhost:8080/"
        },
        "id": "TIKx5N37PHtE",
        "outputId": "7b59f3fa-ca38-43f8-cd28-8b995d583898"
      },
      "outputs": [
        {
          "output_type": "stream",
          "name": "stdout",
          "text": [
            "There is no Swimming Pool floor in this building.\n"
          ]
        }
      ],
      "source": [
        "# Проверьте ячейку для кода 21\n",
        "el.ask_which_floor('Swimming Pool')"
      ]
    },
    {
      "cell_type": "markdown",
      "metadata": {
        "id": "1zel6dsyPHtF"
      },
      "source": [
        "# Отличная работа!"
      ]
    },
    {
      "cell_type": "markdown",
      "metadata": {
        "collapsed": true,
        "id": "zxjZ0MbWPHtG"
      },
      "source": [
        "<font size='0.5'>&copy; 2017 Cisco and/or its affiliates. All rights reserved. This document is Cisco Public.<font>"
      ]
    }
  ],
  "metadata": {
    "anaconda-cloud": {},
    "kernelspec": {
      "display_name": "Python 3",
      "language": "python",
      "name": "python3"
    },
    "language_info": {
      "codemirror_mode": {
        "name": "ipython",
        "version": 3
      },
      "file_extension": ".py",
      "mimetype": "text/x-python",
      "name": "python",
      "nbconvert_exporter": "python",
      "pygments_lexer": "ipython3",
      "version": "3.7.0"
    },
    "colab": {
      "provenance": [],
      "include_colab_link": true
    }
  },
  "nbformat": 4,
  "nbformat_minor": 0
}